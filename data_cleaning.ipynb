{
 "cells": [
  {
   "cell_type": "markdown",
   "id": "89b1959b",
   "metadata": {},
   "source": [
    "# Data Cleaining\n",
    "\n",
    "While we collected and engineered the features, it is still real world data, so there is some missing values. Primarily, it occured if a driver did not complete a session or sessions, but still participated in the final race. Since the races only have 20 drivers each, and eventually our targets will be limited and specific to the races, we did not want to throw out the data. We are going to replace the NaNs with the means of the columns."
   ]
  },
  {
   "cell_type": "code",
   "execution_count": 2,
   "id": "3143c61b",
   "metadata": {},
   "outputs": [],
   "source": [
    "#| label: import\n",
    "import pandas as pd\n",
    "import json\n",
    "import numpy as np\n",
    "import os"
   ]
  },
  {
   "cell_type": "code",
   "execution_count": 10,
   "id": "413ff651",
   "metadata": {},
   "outputs": [],
   "source": [
    "\n",
    "def list_files_in_folder(folder_path):\n",
    "    files = []\n",
    "    for entry in os.listdir(folder_path):\n",
    "        full_path = os.path.join(folder_path, entry)\n",
    "        if os.path.isfile(full_path):\n",
    "            files.append(full_path)\n",
    "    return files\n",
    "\n",
    "raw_data_list = list_files_in_folder(\"data/raw_data\")\n",
    "#print(raw_data_list)"
   ]
  },
  {
   "cell_type": "markdown",
   "id": "8ce6b56c",
   "metadata": {},
   "source": [
    "I realized that the row labels were off (weather before car data, not vice versa), so Im going to fix those at the same time as filling in the NaNs."
   ]
  },
  {
   "cell_type": "code",
   "execution_count": 7,
   "id": "310bf690",
   "metadata": {},
   "outputs": [],
   "source": [
    "colnames = ['meeting_key', 'driver_num',\n",
    "    # P1\n",
    "    'min_lap_p1', 'max_lap_p1', 'avg_lap_p1', 'num_laps_p1', 'num_stints_p1', 'num_pits_p1', 'avg_pit_time_p1',\n",
    "    'did_rain_p1', 'max_wind_p1', 'avg_air_temp_p1', 'avg_track_temp_p1',\n",
    "    'max_brake_p1', 'min_rpm_p1', 'max_rpm_p1', 'avg_rpm_p1', 'max_throttle_p1', 'avg_throttle_p1',\n",
    "    'min_speed_p1', 'max_speed_p1', 'avg_speed_p1',\n",
    "\n",
    "    # P2\n",
    "    'min_lap_p2', 'max_lap_p2', 'avg_lap_p2', 'num_laps_p2', 'num_stints_p2', 'num_pits_p2', 'avg_pit_time_p2',\n",
    "    'did_rain_p2', 'max_wind_p2', 'avg_air_temp_p2', 'avg_track_temp_p2',\n",
    "    'max_brake_p2', 'min_rpm_p2', 'max_rpm_p2', 'avg_rpm_p2', 'max_throttle_p2', 'avg_throttle_p2',\n",
    "    'min_speed_p2', 'max_speed_p2', 'avg_speed_p2',\n",
    "\n",
    "    # P3\n",
    "    'min_lap_p3', 'max_lap_p3', 'avg_lap_p3', 'num_laps_p3', 'num_stints_p3', 'num_pits_p3', 'avg_pit_time_p3',\n",
    "    'did_rain_p3', 'max_wind_p3', 'avg_air_temp_p3', 'avg_track_temp_p3',\n",
    "    'max_brake_p3', 'min_rpm_p3', 'max_rpm_p3', 'avg_rpm_p3', 'max_throttle_p3', 'avg_throttle_p3',\n",
    "    'min_speed_p3', 'max_speed_p3', 'avg_speed_p3',\n",
    "\n",
    "    # Q\n",
    "    'min_lap_q', 'max_lap_q', 'avg_lap_q', 'num_laps_q', 'num_stints_q', 'num_pits_q', 'avg_pit_time_q',\n",
    "    'did_rain_q', 'max_wind_q', 'avg_air_temp_q', 'avg_track_temp_q',\n",
    "    'max_brake_q', 'min_rpm_q', 'max_rpm_q', 'avg_rpm_q', 'max_throttle_q', 'avg_throttle_q',\n",
    "    'min_speed_q', 'max_speed_q', 'avg_speed_q'\n",
    "]\n"
   ]
  },
  {
   "cell_type": "code",
   "execution_count": 11,
   "id": "9988399b",
   "metadata": {},
   "outputs": [
    {
     "name": "stdout",
     "output_type": "stream",
     "text": [
      "data/fixed_data/racing_profiles_1229.csv\n",
      "data/fixed_data/racing_profiles_1214.csv\n",
      "data/fixed_data/racing_profiles_1217.csv\n",
      "data/fixed_data/racing_profiles_1212.csv\n",
      "data/fixed_data/racing_profiles_1210.csv\n",
      "data/fixed_data/racing_profiles_1238.csv\n",
      "data/fixed_data/racing_profiles_1211.csv\n",
      "data/fixed_data/racing_profiles_1248.csv\n",
      "data/fixed_data/racing_profiles_1256.csv\n",
      "data/fixed_data/racing_profiles_1241.csv\n",
      "data/fixed_data/racing_profiles_1245.csv\n",
      "data/fixed_data/racing_profiles_1250.csv\n",
      "data/fixed_data/racing_profiles_1244.csv\n",
      "data/fixed_data/racing_profiles_1252.csv\n",
      "data/fixed_data/racing_profiles_1246.csv\n",
      "data/fixed_data/racing_profiles_1142.csv\n",
      "data/fixed_data/racing_profiles_1208.csv\n",
      "data/fixed_data/racing_profiles_1220.csv\n",
      "data/fixed_data/racing_profiles_1235.csv\n",
      "data/fixed_data/racing_profiles_1143.csv\n",
      "data/fixed_data/racing_profiles_1141.csv\n",
      "data/fixed_data/racing_profiles_1223.csv\n",
      "data/fixed_data/racing_profiles_1237.csv\n",
      "data/fixed_data/racing_profiles_1236.csv\n",
      "data/fixed_data/racing_profiles_1226.csv\n",
      "data/fixed_data/racing_profiles_1232.csv\n",
      "data/fixed_data/racing_profiles_1231.csv\n",
      "data/fixed_data/racing_profiles_1225.csv\n",
      "data/fixed_data/racing_profiles_1219.csv\n",
      "data/fixed_data/racing_profiles_1218.csv\n",
      "data/fixed_data/racing_profiles_1230.csv\n"
     ]
    }
   ],
   "source": [
    "# Output folder\n",
    "output_dir = 'data/fixed_data'\n",
    "os.makedirs(output_dir, exist_ok=True)\n",
    "\n",
    "for f in raw_data_list:\n",
    "    df = pd.read_csv(f) \n",
    "\n",
    "    if len(df.columns) != len(colnames):\n",
    "        print(f\"Column mismatch in {f} (expected {len(colnames)} columns, got {len(df.columns)})\")\n",
    "        continue\n",
    "\n",
    "    # fix the column names\n",
    "    df.columns = colnames\n",
    "\n",
    "    # fill in the missing NaNs with the means for the numeric columns\n",
    "    df_filled = df.fillna(df.mean(numeric_only=True))\n",
    "\n",
    "    filename = os.path.basename(f)  \n",
    "    output_path = os.path.join(output_dir, filename)\n",
    "    print(output_path)\n",
    "\n",
    "    df_filled.to_csv(output_path, index=False)"
   ]
  },
  {
   "cell_type": "markdown",
   "id": "9ee34c82",
   "metadata": {},
   "source": [
    "Now Im going to combine them all into one dataset for later use."
   ]
  },
  {
   "cell_type": "code",
   "execution_count": 15,
   "id": "95cce102",
   "metadata": {},
   "outputs": [],
   "source": [
    "df_list = []\n",
    "\n",
    "fixed_data_list = list_files_in_folder(\"data/fixed_data\")\n",
    "\n",
    "for f in fixed_data_list:\n",
    "    try:\n",
    "        df = pd.read_csv(f)\n",
    "        df_list.append(df)\n",
    "    except Exception as e:\n",
    "        print(f\"Failed to load {f}: {e}\")\n",
    "\n",
    "# Combine all dataframes into one\n",
    "combined_df = pd.concat(df_list, ignore_index=True)\n",
    "\n",
    "# save to csv file\n",
    "combined_df.to_csv(\"data/processed_data/all_races.csv\", index=False)"
   ]
  }
 ],
 "metadata": {
  "kernelspec": {
   "display_name": "dsan5300",
   "language": "python",
   "name": "python3"
  },
  "language_info": {
   "codemirror_mode": {
    "name": "ipython",
    "version": 3
   },
   "file_extension": ".py",
   "mimetype": "text/x-python",
   "name": "python",
   "nbconvert_exporter": "python",
   "pygments_lexer": "ipython3",
   "version": "3.13.1"
  }
 },
 "nbformat": 4,
 "nbformat_minor": 5
}
