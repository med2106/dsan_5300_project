{
 "cells": [
  {
   "cell_type": "markdown",
   "metadata": {},
   "source": [
    "# Obtaining Label Data\n",
    "\n",
    "Testing the Ergast API"
   ]
  },
  {
   "cell_type": "code",
   "execution_count": 1,
   "metadata": {},
   "outputs": [],
   "source": [
    "#| label: import\n",
    "from urllib.request import urlopen\n",
    "import pandas as pd\n",
    "import json\n",
    "from datetime import datetime"
   ]
  },
  {
   "cell_type": "code",
   "execution_count": 9,
   "metadata": {},
   "outputs": [
    {
     "ename": "ModuleNotFoundError",
     "evalue": "No module named 'ergast_py'",
     "output_type": "error",
     "traceback": [
      "\u001b[0;31m---------------------------------------------------------------------------\u001b[0m",
      "\u001b[0;31mModuleNotFoundError\u001b[0m                       Traceback (most recent call last)",
      "Cell \u001b[0;32mIn[9], line 1\u001b[0m\n\u001b[0;32m----> 1\u001b[0m \u001b[38;5;28;01mimport\u001b[39;00m\u001b[38;5;250m \u001b[39m\u001b[38;5;21;01mergast_py\u001b[39;00m\n\u001b[1;32m      3\u001b[0m e \u001b[38;5;241m=\u001b[39m ergast_py\u001b[38;5;241m.\u001b[39mErgast()\n",
      "\u001b[0;31mModuleNotFoundError\u001b[0m: No module named 'ergast_py'"
     ]
    }
   ],
   "source": [
    "import ergast_py\n",
    "\n",
    "e = ergast_py.Ergast()"
   ]
  },
  {
   "cell_type": "code",
   "execution_count": 6,
   "metadata": {},
   "outputs": [
    {
     "ename": "NameError",
     "evalue": "name 'e' is not defined",
     "output_type": "error",
     "traceback": [
      "\u001b[0;31m---------------------------------------------------------------------------\u001b[0m",
      "\u001b[0;31mNameError\u001b[0m                                 Traceback (most recent call last)",
      "Cell \u001b[0;32mIn[6], line 2\u001b[0m\n\u001b[1;32m      1\u001b[0m \u001b[38;5;66;03m# https://ergast.com/api/f1/2023/circuits/spa/results\u001b[39;00m\n\u001b[0;32m----> 2\u001b[0m race_results \u001b[38;5;241m=\u001b[39m \u001b[43me\u001b[49m\u001b[38;5;241m.\u001b[39mseason(\u001b[38;5;241m2023\u001b[39m)\u001b[38;5;241m.\u001b[39mcircuits(\u001b[38;5;124m\"\u001b[39m\u001b[38;5;124mspa\u001b[39m\u001b[38;5;124m\"\u001b[39m)\u001b[38;5;241m.\u001b[39mget_results()\n",
      "\u001b[0;31mNameError\u001b[0m: name 'e' is not defined"
     ]
    }
   ],
   "source": [
    "# https://ergast.com/api/f1/2023/circuits/spa/results\n",
    "race_results = e.season(2023).circuits(\"spa\").get_results()"
   ]
  },
  {
   "cell_type": "code",
   "execution_count": 4,
   "metadata": {},
   "outputs": [
    {
     "name": "stdout",
     "output_type": "stream",
     "text": [
      "<class 'http.client.HTTPResponse'>\n"
     ]
    }
   ],
   "source": [
    "query_base = \"http://ergast.com/api/f1/\"\n",
    "\n",
    "query_results = query_base+\"2023/circuits/spa/results\"\n",
    "\n",
    "response = urlopen(query_results)\n",
    "\n",
    "print(type(response))\n",
    "# data = json.loads(response.read().decode('utf-8'))\n",
    "# results_df = pd.json_normalize(data)\n",
    "\n",
    "# print(results_df.head())"
   ]
  }
 ],
 "metadata": {
  "kernelspec": {
   "display_name": "dsan5300",
   "language": "python",
   "name": "python3"
  },
  "language_info": {
   "codemirror_mode": {
    "name": "ipython",
    "version": 3
   },
   "file_extension": ".py",
   "mimetype": "text/x-python",
   "name": "python",
   "nbconvert_exporter": "python",
   "pygments_lexer": "ipython3",
   "version": "3.13.1"
  }
 },
 "nbformat": 4,
 "nbformat_minor": 2
}
